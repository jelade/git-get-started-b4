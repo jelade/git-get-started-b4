{
  "nbformat": 4,
  "nbformat_minor": 0,
  "metadata": {
    "colab": {
      "provenance": [],
      "authorship_tag": "ABX9TyNPDhNudWAFFrDUsIProgm4",
      "include_colab_link": true
    },
    "kernelspec": {
      "name": "python3",
      "display_name": "Python 3"
    },
    "language_info": {
      "name": "python"
    }
  },
  "cells": [
    {
      "cell_type": "markdown",
      "metadata": {
        "id": "view-in-github",
        "colab_type": "text"
      },
      "source": [
        "<a href=\"https://colab.research.google.com/github/jelade/git-get-started-b4/blob/main/code.ipynb\" target=\"_parent\"><img src=\"https://colab.research.google.com/assets/colab-badge.svg\" alt=\"Open In Colab\"/></a>"
      ]
    },
    {
      "cell_type": "code",
      "execution_count": null,
      "metadata": {
        "id": "67YHMiZMAe0B"
      },
      "outputs": [],
      "source": [
        "nums = [3,13,11,15,2,7]\n",
        "def twoSum(nums, target):\n",
        "  for i in range(len(nums)-1):\n",
        "      for j in range(i+1,len(nums)):\n",
        "          if nums[i]+nums[j] ==target:\n",
        "              return i,j"
      ]
    },
    {
      "cell_type": "code",
      "source": [
        "nums = [3,2,4]\n",
        "twoSum(nums, 6)"
      ],
      "metadata": {
        "colab": {
          "base_uri": "https://localhost:8080/"
        },
        "id": "bT-At-e8AwJp",
        "outputId": "dcf26a9e-e4ad-4c20-f003-8ed64d6af3da"
      },
      "execution_count": null,
      "outputs": [
        {
          "output_type": "execute_result",
          "data": {
            "text/plain": [
              "(1, 2)"
            ]
          },
          "metadata": {},
          "execution_count": 20
        }
      ]
    },
    {
      "cell_type": "code",
      "source": [
        "nums = [3,2,4]\n",
        "for i in range(len(nums)-1):\n",
        "  for j in range(i+1,len(nums)):\n",
        "    print(j)"
      ],
      "metadata": {
        "colab": {
          "base_uri": "https://localhost:8080/"
        },
        "id": "yY76RPYvByPp",
        "outputId": "bc9177e0-0e5f-44aa-d692-ae20f14be298"
      },
      "execution_count": null,
      "outputs": [
        {
          "output_type": "stream",
          "name": "stdout",
          "text": [
            "1\n",
            "2\n",
            "2\n"
          ]
        }
      ]
    },
    {
      "cell_type": "code",
      "source": [
        "for i in range(2,2):\n",
        "  print(i)"
      ],
      "metadata": {
        "id": "D0pIneSzB_Kz"
      },
      "execution_count": null,
      "outputs": []
    },
    {
      "cell_type": "code",
      "source": [
        "nums[::-1]"
      ],
      "metadata": {
        "colab": {
          "base_uri": "https://localhost:8080/"
        },
        "id": "gtPgxTXLCBow",
        "outputId": "7a911e41-d81d-4778-86ba-426c8a675ca8"
      },
      "execution_count": null,
      "outputs": [
        {
          "output_type": "execute_result",
          "data": {
            "text/plain": [
              "[4, 2, 3]"
            ]
          },
          "metadata": {},
          "execution_count": 21
        }
      ]
    },
    {
      "cell_type": "code",
      "source": [
        "list1 = {'I':1,'V':5, 'X' :10, 'L':50, 'C':100, 'D':500 ,'M':1000}\n",
        "for j in range(len(list1)):\n",
        "  print(j)"
      ],
      "metadata": {
        "colab": {
          "base_uri": "https://localhost:8080/"
        },
        "id": "KUDTfUVeI1RN",
        "outputId": "b9de4455-7327-4f77-c047-30382d767022"
      },
      "execution_count": null,
      "outputs": [
        {
          "output_type": "stream",
          "name": "stdout",
          "text": [
            "0\n",
            "1\n",
            "2\n",
            "3\n",
            "4\n",
            "5\n",
            "6\n"
          ]
        }
      ]
    },
    {
      "cell_type": "code",
      "source": [
        "def romanToInt(s):\n",
        "        \"\"\"\n",
        "        :type s: str\n",
        "        :rtype: int\n",
        "        \"\"\"\n",
        "\n",
        "        sum = 0\n",
        "        list1 = {'I':1,'V':5, 'X' :10, 'L':50, 'C':100, 'D':500 ,'M':1000}\n",
        "\n",
        "        for j in range(len(s)):\n",
        "            if (s[j] == \"I\" and s[j+1] in \"VX\") or (s[j] == \"X\" and s[j+1] in \"LC\") or (s[j] == \"C\" and s[j+1] in \"DM\"):\n",
        "                w = list1[s[j+1]]- list1[s[j]]\n",
        "                sum+=w\n",
        "                j = j+1\n",
        "            else:\n",
        "                sum+=list1[s[j]]\n",
        "            \n",
        "        return sum"
      ],
      "metadata": {
        "id": "LeCUNdZUJYt_"
      },
      "execution_count": null,
      "outputs": []
    },
    {
      "cell_type": "code",
      "source": [
        "s = \"MCMXCIV\"\n",
        "romanToInt(s)"
      ],
      "metadata": {
        "colab": {
          "base_uri": "https://localhost:8080/"
        },
        "id": "oj3kYKTlPpnn",
        "outputId": "e29a0fb1-3703-40f0-c3eb-b0ad233f670b"
      },
      "execution_count": null,
      "outputs": [
        {
          "output_type": "execute_result",
          "data": {
            "text/plain": [
              "3099"
            ]
          },
          "metadata": {},
          "execution_count": 56
        }
      ]
    },
    {
      "cell_type": "code",
      "source": [
        "list1 = {'I':1,'V':5, 'X' :10, 'L':50, 'C':100, 'D':500 ,'M':1000}\n",
        "list1['I']"
      ],
      "metadata": {
        "colab": {
          "base_uri": "https://localhost:8080/"
        },
        "id": "YMu8jYDSRU9C",
        "outputId": "77183b1e-5c64-4815-e09f-1dc74001d248"
      },
      "execution_count": null,
      "outputs": [
        {
          "output_type": "execute_result",
          "data": {
            "text/plain": [
              "1"
            ]
          },
          "metadata": {},
          "execution_count": 45
        }
      ]
    },
    {
      "cell_type": "code",
      "source": [
        "s[1]"
      ],
      "metadata": {
        "colab": {
          "base_uri": "https://localhost:8080/",
          "height": 35
        },
        "id": "57qaH0IeRals",
        "outputId": "4c4c9a52-ac99-4faa-ed3c-dadc316bfc02"
      },
      "execution_count": null,
      "outputs": [
        {
          "output_type": "execute_result",
          "data": {
            "text/plain": [
              "'C'"
            ],
            "application/vnd.google.colaboratory.intrinsic+json": {
              "type": "string"
            }
          },
          "metadata": {},
          "execution_count": 48
        }
      ]
    },
    {
      "cell_type": "code",
      "source": [
        "sum = 0\n",
        "for j in range(len(s)):\n",
        "  if (s[j] == \"I\" and s[j+1] in \"VX\") or (s[j] == \"X\" and s[j+1] in \"LC\") or (s[j] == \"C\" and s[j+1] in \"DM\"):\n",
        "      w = list1[s[j+1]]-list1[s[j]]\n",
        "      sum+=w\n",
        "      j = j+1\n",
        "  else:\n",
        "      sum+=list1[s[j]]\n",
        "\n",
        "print(sum)"
      ],
      "metadata": {
        "colab": {
          "base_uri": "https://localhost:8080/"
        },
        "id": "qEl6P1W5RfjV",
        "outputId": "a9ec700e-6e1b-40d2-ae4e-6876571472ce"
      },
      "execution_count": null,
      "outputs": [
        {
          "output_type": "stream",
          "name": "stdout",
          "text": [
            "1000\n",
            "1100\n",
            "2100\n",
            "2110\n",
            "2210\n",
            "2211\n",
            "2216\n"
          ]
        }
      ]
    },
    {
      "cell_type": "code",
      "source": [],
      "metadata": {
        "id": "xqbDaE4yRwcE"
      },
      "execution_count": null,
      "outputs": []
    }
  ]
}